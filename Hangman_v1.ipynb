{
 "cells": [
  {
   "cell_type": "code",
   "execution_count": 1,
   "id": "3cb6b958-67ec-4167-be33-f65fcd07c802",
   "metadata": {},
   "outputs": [
    {
     "name": "stdin",
     "output_type": "stream",
     "text": [
      "Dame una letra  A\n"
     ]
    },
    {
     "name": "stdout",
     "output_type": "stream",
     "text": [
      "_ _ _ _ _ _ a _ _ _ _   Te quedan 3 vidas\n"
     ]
    },
    {
     "name": "stdin",
     "output_type": "stream",
     "text": [
      "Dame una letra  b\n"
     ]
    },
    {
     "name": "stdout",
     "output_type": "stream",
     "text": [
      "_ _ _ _ _ _ a _ _ _ _   Te quedan 2 vidas\n"
     ]
    },
    {
     "name": "stdin",
     "output_type": "stream",
     "text": [
      "Dame una letra  s\n"
     ]
    },
    {
     "name": "stdout",
     "output_type": "stream",
     "text": [
      "_ _ _ _ _ _ a _ _ _ _   Te quedan 1 vidas\n"
     ]
    },
    {
     "name": "stdin",
     "output_type": "stream",
     "text": [
      "Dame una letra  r\n"
     ]
    },
    {
     "name": "stdout",
     "output_type": "stream",
     "text": [
      "_ _ r r _ _ a r r _ _   Te quedan 1 vidas\n"
     ]
    },
    {
     "name": "stdin",
     "output_type": "stream",
     "text": [
      "Dame una letra  f\n"
     ]
    },
    {
     "name": "stdout",
     "output_type": "stream",
     "text": [
      "f _ r r _ _ a r r _ _   Te quedan 1 vidas\n"
     ]
    },
    {
     "name": "stdin",
     "output_type": "stream",
     "text": [
      "Dame una letra  e\n"
     ]
    },
    {
     "name": "stdout",
     "output_type": "stream",
     "text": [
      "f e r r _ _ a r r _ _   Te quedan 1 vidas\n"
     ]
    },
    {
     "name": "stdin",
     "output_type": "stream",
     "text": [
      "Dame una letra  o\n"
     ]
    },
    {
     "name": "stdout",
     "output_type": "stream",
     "text": [
      "f e r r o _ a r r _ _   Te quedan 1 vidas\n"
     ]
    },
    {
     "name": "stdin",
     "output_type": "stream",
     "text": [
      "Dame una letra  c\n"
     ]
    },
    {
     "name": "stdout",
     "output_type": "stream",
     "text": [
      "f e r r o c a r r _ _   Te quedan 1 vidas\n"
     ]
    },
    {
     "name": "stdin",
     "output_type": "stream",
     "text": [
      "Dame una letra  i\n"
     ]
    },
    {
     "name": "stdout",
     "output_type": "stream",
     "text": [
      "f e r r o c a r r i _   Te quedan 1 vidas\n"
     ]
    },
    {
     "name": "stdin",
     "output_type": "stream",
     "text": [
      "Dame una letra  l\n"
     ]
    },
    {
     "name": "stdout",
     "output_type": "stream",
     "text": [
      "f e r r o c a r r i l   Te quedan 1 vidas\n",
      "\n",
      "GANASTEEEE!\n"
     ]
    }
   ],
   "source": [
    "# Valores iniciales\n",
    "from numpy import random\n",
    "\n",
    "lista_de_palabras = ['alfabeto','noviembre','ironhack','murcielago','ferrocarril']\n",
    "letras_anteriores = []\n",
    "letras_adivinadas =[]\n",
    "letra_actual = []\n",
    "vidas = 3\n",
    "palabra = random.choice(lista_de_palabras)\n",
    "letras_palabra = []\n",
    "\n",
    "\n",
    "\n",
    "for letra in palabra:\n",
    "    letras_palabra.append(letra)\n",
    "def pedir_letra():\n",
    "    # guardar la letra que nos de el usuario\n",
    "    letra_actual = input('Dame una letra ').lower()\n",
    "    while letra_actual in letras_anteriores:\n",
    "        #repite\n",
    "        letra_actual = input('Dame otra letra').lower()\n",
    "            \n",
    "    letras_anteriores.append(letra_actual)        \n",
    "    return letra_actual\n",
    "\n",
    "def acertar_letra(letra_actual, vidas):\n",
    "    if letra_actual in palabra:\n",
    "        letras_adivinadas.append(letra_actual) # Sí adivinaste!\n",
    "#         vidas = vidas6\n",
    "        return letras_adivinadas, vidas\n",
    "    else:\n",
    "        vidas = vidas - 1\n",
    "        return letras_adivinadas, vidas\n",
    "\n",
    "    \n",
    "\n",
    "def esconder_palabra(letras_adivinadas): # 'palabra' ---> '_ _ _ _ _ _ _'\n",
    "    \n",
    "    letra2 = []\n",
    "    for letra in palabra:\n",
    "        if letra not in letras_adivinadas:\n",
    "            letra = '_ '\n",
    "            letra2.append(letra)\n",
    "    #         print(letra)\n",
    "        else:\n",
    "            letra2.append(letra+' ')\n",
    "    #         print(letra2)\n",
    "\n",
    "    return ''.join(letra2)\n",
    "\n",
    "while vidas > 0:\n",
    "    letra_actual = pedir_letra()\n",
    "\n",
    "    letras_adivinadas, vidas = acertar_letra(letra_actual, vidas)\n",
    "\n",
    "    print(esconder_palabra(letras_adivinadas),' Te quedan',vidas,'vidas')\n",
    "    \n",
    "    if set(letras_adivinadas) == set(letras_palabra):\n",
    "        print('\\nGANASTEEEE!\\n')\n",
    "        break\n",
    "        \n",
    "if vidas == 0:\n",
    "    print('\\nPerdiste :( \\n')"
   ]
  },
  {
   "cell_type": "code",
   "execution_count": null,
   "id": "a91dbe1f-3a6a-49cb-a417-18cf0de88afc",
   "metadata": {},
   "outputs": [],
   "source": []
  }
 ],
 "metadata": {
  "kernelspec": {
   "display_name": "Python 3",
   "language": "python",
   "name": "python3"
  },
  "language_info": {
   "codemirror_mode": {
    "name": "ipython",
    "version": 3
   },
   "file_extension": ".py",
   "mimetype": "text/x-python",
   "name": "python",
   "nbconvert_exporter": "python",
   "pygments_lexer": "ipython3",
   "version": "3.8.8"
  }
 },
 "nbformat": 4,
 "nbformat_minor": 5
}
