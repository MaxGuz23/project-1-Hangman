{
 "cells": [
  {
   "cell_type": "code",
   "execution_count": 1,
   "id": "73d0cf88-45b0-4d71-9cce-1ee608850b16",
   "metadata": {},
   "outputs": [],
   "source": [
    "from numpy import random"
   ]
  },
  {
   "cell_type": "code",
   "execution_count": 37,
   "id": "4336fd7a-2220-453e-bd30-869105320953",
   "metadata": {},
   "outputs": [],
   "source": [
    "# Valores iniciales\n",
    "lista_de_palabras = ['alfabeto','noviembre','ironhack','murcielago','ferrocarril']\n",
    "letras_anteriores = []\n",
    "letras_adivinadas =[]\n",
    "letra_actual = []\n",
    "vidas = 9\n",
    "palabra = random.choice(lista_de_palabras)"
   ]
  },
  {
   "cell_type": "code",
   "execution_count": 38,
   "id": "d946a4e6-4aa9-40db-ba19-6e198a335941",
   "metadata": {},
   "outputs": [],
   "source": [
    "def pedir_letra():\n",
    "    # guardar la letra que nos de el usuario\n",
    "    letra_actual = input('Dame una letra')\n",
    "    while letra_actual in letras_anteriores:\n",
    "        #repite\n",
    "        letra_actual = input('Dame otra letra')\n",
    "            \n",
    "    letras_anteriores.append(letra_actual)        \n",
    "    return letra_actual\n",
    "\n",
    "def acertar_letra(letra_actual, vidas):\n",
    "    if letra_actual in palabra:\n",
    "        letras_adivinadas.append(letra_actual) # Sí adivinaste!\n",
    "#         vidas = vidas\n",
    "    else:\n",
    "        vidas -= 1\n",
    "\n",
    "    return letras_adivinadas, vidas\n",
    "\n",
    "def esconder_palabra(letras_adivinadas): # 'palabra' ---> '_ _ _ _ _ _ _'\n",
    "    \n",
    "    letra2 = []\n",
    "    for letra in palabra:\n",
    "        if letra not in letras_adivinadas:\n",
    "            letra = '_ '\n",
    "            letra2.append(letra)\n",
    "    #         print(letra)\n",
    "        else:\n",
    "            letra2.append(letra+' ')\n",
    "    #         print(letra2)\n",
    "\n",
    "    return ''.join(letra2)"
   ]
  },
  {
   "cell_type": "code",
   "execution_count": 39,
   "id": "7746821b-9f69-43b0-8789-f843ab3c8532",
   "metadata": {},
   "outputs": [
    {
     "data": {
      "text/plain": [
       "'ironhack'"
      ]
     },
     "execution_count": 39,
     "metadata": {},
     "output_type": "execute_result"
    }
   ],
   "source": [
    "palabra"
   ]
  },
  {
   "cell_type": "code",
   "execution_count": 49,
   "id": "c7a226d7-148f-4e6b-b448-7ee6cc27ce84",
   "metadata": {},
   "outputs": [
    {
     "name": "stdin",
     "output_type": "stream",
     "text": [
      "Dame una letra m\n"
     ]
    },
    {
     "data": {
      "text/plain": [
       "'m'"
      ]
     },
     "execution_count": 49,
     "metadata": {},
     "output_type": "execute_result"
    }
   ],
   "source": [
    "letra_actual = pedir_letra()\n",
    "letra_actual"
   ]
  },
  {
   "cell_type": "code",
   "execution_count": 50,
   "id": "d3262370-135d-46aa-854e-3742426a8d85",
   "metadata": {},
   "outputs": [
    {
     "data": {
      "text/plain": [
       "(['a'], 8)"
      ]
     },
     "execution_count": 50,
     "metadata": {},
     "output_type": "execute_result"
    }
   ],
   "source": [
    "acertar_letra(letra_actual,vidas)"
   ]
  },
  {
   "cell_type": "code",
   "execution_count": 32,
   "id": "1c7c9df8-daeb-4359-8494-90538b6c1c4c",
   "metadata": {},
   "outputs": [
    {
     "data": {
      "text/plain": [
       "[]"
      ]
     },
     "execution_count": 32,
     "metadata": {},
     "output_type": "execute_result"
    }
   ],
   "source": [
    "esconder_palabra()"
   ]
  },
  {
   "cell_type": "code",
   "execution_count": 48,
   "id": "5a67a80f-1d1a-41b8-b3ad-0d8d918d9cc2",
   "metadata": {},
   "outputs": [
    {
     "data": {
      "text/plain": [
       "9"
      ]
     },
     "execution_count": 48,
     "metadata": {},
     "output_type": "execute_result"
    }
   ],
   "source": [
    "vidas"
   ]
  },
  {
   "cell_type": "code",
   "execution_count": null,
   "id": "81dc0683-9e3e-4b39-8cbb-9e7cf6b8c9f2",
   "metadata": {},
   "outputs": [],
   "source": []
  }
 ],
 "metadata": {
  "kernelspec": {
   "display_name": "Python 3",
   "language": "python",
   "name": "python3"
  },
  "language_info": {
   "codemirror_mode": {
    "name": "ipython",
    "version": 3
   },
   "file_extension": ".py",
   "mimetype": "text/x-python",
   "name": "python",
   "nbconvert_exporter": "python",
   "pygments_lexer": "ipython3",
   "version": "3.8.8"
  }
 },
 "nbformat": 4,
 "nbformat_minor": 5
}
