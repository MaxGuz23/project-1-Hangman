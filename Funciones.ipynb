{
 "cells": [
  {
   "cell_type": "code",
   "execution_count": 1,
   "id": "73d0cf88-45b0-4d71-9cce-1ee608850b16",
   "metadata": {},
   "outputs": [],
   "source": [
    "from numpy import random"
   ]
  },
  {
   "cell_type": "code",
   "execution_count": 2,
   "id": "4336fd7a-2220-453e-bd30-869105320953",
   "metadata": {},
   "outputs": [],
   "source": [
    "# Valores iniciales\n",
    "lista_de_palabras = ['alfabeto','noviembre','ironhack','murcielago','ferrocarril']\n",
    "letras_anteriores = []\n",
    "letras_adivinadas =[]\n",
    "letra_actual = []\n",
    "vidas = 3\n",
    "palabra = random.choice(lista_de_palabras)"
   ]
  },
  {
   "cell_type": "code",
   "execution_count": null,
   "id": "d946a4e6-4aa9-40db-ba19-6e198a335941",
   "metadata": {},
   "outputs": [],
   "source": [
    "def pedir_letra():\n",
    "    # guardar la letra que nos de el usuario\n",
    "    letra_actual = input('Dame una letra')\n",
    "    while letra_actual in letras_anteriores:\n",
    "        #repite\n",
    "        letra_actual = input('Dame otra letra')\n",
    "            \n",
    "    letras_anteriores.append(letra_actual)        \n",
    "    return letra_actual\n",
    "\n",
    "def acertar_letra(letra_actual, vidas):\n",
    "    if letra_actual in palabra:\n",
    "        letras_adivinadas.append(letra_actual) # Sí adivinaste!\n",
    "#         vidas = vidas6\n",
    "        return letras_adivinadas, vidas\n",
    "    else:\n",
    "        vidas = vidas - 1\n",
    "        return letras_adivinadas, vidas\n",
    "\n",
    "    \n",
    "\n",
    "def esconder_palabra(letras_adivinadas): # 'palabra' ---> '_ _ _ _ _ _ _'\n",
    "    \n",
    "    letra2 = []\n",
    "    for letra in palabra:\n",
    "        if letra not in letras_adivinadas:\n",
    "            letra = '_ '\n",
    "            letra2.append(letra)\n",
    "    #         print(letra)\n",
    "        else:\n",
    "            letra2.append(letra+' ')\n",
    "    #         print(letra2)\n",
    "\n",
    "    return ''.join(letra2)\n",
    "\n",
    "while vidas > 0:\n",
    "    letra_actual = pedir_letra()\n",
    "\n",
    "    letras_adivinadas, vidas = acertar_letra(letra_actual, vidas)\n",
    "\n",
    "    print(esconder_palabra(letras_adivinadas))\n",
    "    \n",
    "    if len(letras_adivinadas) == len(palabra):\n",
    "        print('GANASTEEEE!')\n",
    "        break"
   ]
  },
  {
   "cell_type": "code",
   "execution_count": null,
   "id": "7746821b-9f69-43b0-8789-f843ab3c8532",
   "metadata": {},
   "outputs": [],
   "source": [
    "palabra"
   ]
  },
  {
   "cell_type": "code",
   "execution_count": null,
   "id": "c7a226d7-148f-4e6b-b448-7ee6cc27ce84",
   "metadata": {},
   "outputs": [],
   "source": [
    "letra_actual = pedir_letra()\n",
    "letra_actual"
   ]
  },
  {
   "cell_type": "code",
   "execution_count": null,
   "id": "d3262370-135d-46aa-854e-3742426a8d85",
   "metadata": {},
   "outputs": [],
   "source": [
    "letras_adivinadas, vidas = acertar_letra(letra_actual, vidas)\n",
    "letras_adivinadas, vidas"
   ]
  },
  {
   "cell_type": "code",
   "execution_count": null,
   "id": "1c7c9df8-daeb-4359-8494-90538b6c1c4c",
   "metadata": {
    "tags": []
   },
   "outputs": [],
   "source": [
    "esconder_palabra(letras_adivinadas)"
   ]
  },
  {
   "cell_type": "code",
   "execution_count": null,
   "id": "5a67a80f-1d1a-41b8-b3ad-0d8d918d9cc2",
   "metadata": {},
   "outputs": [],
   "source": [
    "vidas"
   ]
  },
  {
   "cell_type": "code",
   "execution_count": null,
   "id": "81dc0683-9e3e-4b39-8cbb-9e7cf6b8c9f2",
   "metadata": {},
   "outputs": [],
   "source": []
  },
  {
   "cell_type": "code",
   "execution_count": null,
   "id": "fb199f7d-5ff7-4f79-a89d-5629e351a233",
   "metadata": {
    "tags": []
   },
   "outputs": [],
   "source": [
    "# Valores iniciales\n",
    "lista_de_palabras = ['alfabeto','noviembre','ironhack','murcielago','ferrocarril']\n",
    "letras_anteriores = []\n",
    "letras_adivinadas =[]\n",
    "letra_actual = []\n",
    "vidas = 3\n",
    "palabra = random.choice(lista_de_palabras)\n",
    "letras_palabra = []\n",
    "for letra in palabra:\n",
    "    letras_palabra.append(letra)"
   ]
  },
  {
   "cell_type": "code",
   "execution_count": null,
   "id": "c69a1737-01f3-423c-8391-37eefdeef872",
   "metadata": {},
   "outputs": [],
   "source": [
    "# Valores iniciales\n",
    "lista_de_palabras = ['alfabeto','noviembre','ironhack','murcielago','ferrocarril']\n",
    "letras_anteriores = []\n",
    "letras_adivinadas =[]\n",
    "letra_actual = []\n",
    "vidas = 3\n",
    "palabra = random.choice(lista_de_palabras)\n",
    "letras_palabra = []\n",
    "\n",
    "for letra in palabra:\n",
    "    letras_palabra.append(letra)\n",
    "def pedir_letra():\n",
    "    # guardar la letra que nos de el usuario\n",
    "    letra_actual = input('Dame una letra')\n",
    "    while letra_actual in letras_anteriores:\n",
    "        #repite\n",
    "        letra_actual = input('Dame otra letra')\n",
    "            \n",
    "    letras_anteriores.append(letra_actual)        \n",
    "    return letra_actual\n",
    "\n",
    "def acertar_letra(letra_actual, vidas):\n",
    "    if letra_actual in palabra:\n",
    "        letras_adivinadas.append(letra_actual) # Sí adivinaste!\n",
    "#         vidas = vidas6\n",
    "        return letras_adivinadas, vidas\n",
    "    else:\n",
    "        vidas = vidas - 1\n",
    "        return letras_adivinadas, vidas\n",
    "\n",
    "    \n",
    "\n",
    "def esconder_palabra(letras_adivinadas): # 'palabra' ---> '_ _ _ _ _ _ _'\n",
    "    \n",
    "    letra2 = []\n",
    "    for letra in palabra:\n",
    "        if letra not in letras_adivinadas:\n",
    "            letra = '_ '\n",
    "            letra2.append(letra)\n",
    "    #         print(letra)\n",
    "        else:\n",
    "            letra2.append(letra+' ')\n",
    "    #         print(letra2)\n",
    "\n",
    "    return ''.join(letra2)\n",
    "\n",
    "while vidas > 0:\n",
    "    letra_actual = pedir_letra()\n",
    "\n",
    "    letras_adivinadas, vidas = acertar_letra(letra_actual, vidas)\n",
    "\n",
    "    print(esconder_palabra(letras_adivinadas),' Te quedan',vidas,'vidas')\n",
    "    \n",
    "    a = letras_adivinadas\n",
    "    b = letras_palabra\n",
    "\n",
    "    A = set(a)\n",
    "    B = set(b)\n",
    "    \n",
    "    if A == B:\n",
    "        print('GANASTEEEE!')\n",
    "        break\n",
    "        \n",
    "if vidas == 0:\n",
    "    print('Perdiste :( ')"
   ]
  },
  {
   "cell_type": "code",
   "execution_count": null,
   "id": "887744d4-b09d-4fa2-853b-3442e7687b19",
   "metadata": {},
   "outputs": [],
   "source": []
  },
  {
   "cell_type": "code",
   "execution_count": null,
   "id": "dfd732e4-662c-46f5-995d-9fb80b202612",
   "metadata": {},
   "outputs": [],
   "source": [
    "# letras_adivinadas\n",
    "# len(palabra)\n",
    "\n",
    "a = ['i','e','o','n','v','m','b','r']\n",
    "b = ['n','o','v','i','e','m','b','r','e']\n",
    "\n",
    "A = set(a)\n",
    "B = set(b)\n",
    "\n",
    "A == B\n",
    "# print(a.sort())# in b.sort()\n",
    "# print(A)\n",
    "# type(a)"
   ]
  },
  {
   "cell_type": "code",
   "execution_count": null,
   "id": "927f2cc3-daaf-4866-beb7-7f7ef38f9f51",
   "metadata": {},
   "outputs": [],
   "source": [
    "letras_palabra"
   ]
  },
  {
   "cell_type": "code",
   "execution_count": null,
   "id": "32cea6a3-ce97-4672-a47a-b8dd351935f2",
   "metadata": {},
   "outputs": [],
   "source": [
    "def esconder_palabra(letras_adivinadas): # 'palabra' ---> '_ _ _ _ _ _ _'\n",
    "    \n",
    "    letra2 = []\n",
    "    for letra in palabra:\n",
    "        if letra not in letras_adivinadas:\n",
    "            letra = '_ '\n",
    "            letra2.append(letra)\n",
    "    #         print(letra)\n",
    "        else:\n",
    "            letra2.append(letra+' ')\n",
    "    #         print(letra2)\n",
    "        \n",
    "    \n",
    "    return ''.join(letra2)"
   ]
  },
  {
   "cell_type": "code",
   "execution_count": null,
   "id": "ea720856-716d-4f71-a48f-20be1d056b79",
   "metadata": {},
   "outputs": [],
   "source": [
    "esconder_palabra()"
   ]
  },
  {
   "cell_type": "code",
   "execution_count": null,
   "id": "3ecdd84a-0565-415d-9e77-11af9cdf57a2",
   "metadata": {},
   "outputs": [],
   "source": []
  },
  {
   "cell_type": "code",
   "execution_count": null,
   "id": "0f795c14-20e5-4217-af93-1891c6a2c0b3",
   "metadata": {},
   "outputs": [],
   "source": []
  },
  {
   "cell_type": "code",
   "execution_count": null,
   "id": "abd111f6-214e-4303-9f2c-30951137e90c",
   "metadata": {},
   "outputs": [],
   "source": []
  },
  {
   "cell_type": "code",
   "execution_count": null,
   "id": "b8ab6cb3-5145-4d62-9927-2b4258c56fb1",
   "metadata": {},
   "outputs": [],
   "source": [
    "# Valores iniciales\n",
    "lista_de_palabras = ['alfabeto','noviembre','ironhack','murcielago','ferrocarril']\n",
    "letras_anteriores = []\n",
    "letras_adivinadas =[]\n",
    "letra_actual = []\n",
    "vidas = 3\n",
    "palabra = random.choice(lista_de_palabras)\n",
    "letras_palabra = []\n",
    "\n",
    "for letra in palabra:\n",
    "    letras_palabra.append(letra)\n",
    "def pedir_letra():\n",
    "    # guardar la letra que nos de el usuario\n",
    "    letra_actual = input('Dame una letra')\n",
    "    while letra_actual in letras_anteriores:\n",
    "        #repite\n",
    "        letra_actual = input('Dame otra letra')\n",
    "            \n",
    "    letras_anteriores.append(letra_actual)        \n",
    "    return letra_actual\n",
    "\n",
    "def acertar_letra(letra_actual, vidas):\n",
    "    if letra_actual in palabra:\n",
    "        letras_adivinadas.append(letra_actual) # Sí adivinaste!\n",
    "#         vidas = vidas6\n",
    "        return letras_adivinadas, vidas\n",
    "    else:\n",
    "        vidas = vidas - 1\n",
    "        return letras_adivinadas, vidas\n",
    "\n",
    "    \n",
    "\n",
    "def esconder_palabra(letras_adivinadas): # 'palabra' ---> '_ _ _ _ _ _ _'\n",
    "    \n",
    "    letra2 = []\n",
    "    for letra in palabra:\n",
    "        if letra not in letras_adivinadas:\n",
    "            letra = '_ '\n",
    "            letra2.append(letra)\n",
    "    #         print(letra)\n",
    "        else:\n",
    "            letra2.append(letra+' ')\n",
    "    #         print(letra2)\n",
    "\n",
    "    return ''.join(letra2)\n",
    "\n",
    "while vidas > 0:\n",
    "    letra_actual = pedir_letra()\n",
    "\n",
    "    letras_adivinadas, vidas = acertar_letra(letra_actual, vidas)\n",
    "\n",
    "    print(esconder_palabra(letras_adivinadas),' Te quedan',vidas,'vidas')\n",
    "    \n",
    "    if set(letras_adivinadas) == set(letras_palabra):\n",
    "        print('\\nGANASTEEEE!')\n",
    "        break\n",
    "        \n",
    "if vidas == 0:\n",
    "    print('\\nPerdiste :( ')"
   ]
  },
  {
   "cell_type": "code",
   "execution_count": 1,
   "id": "2ea2dbcc-c3b9-42dc-bae0-c47714e630bd",
   "metadata": {},
   "outputs": [],
   "source": [
    "def reiniciar():\n",
    "    jugar_otravez = []\n",
    " \n",
    "    jugar_otravez = input('Reiniciar juego s = Si, n = No')\n",
    "    \n",
    "    while jugar_otravez not in ['s', 'n']:\n",
    "        jugar_otravez = input('Reiniciar juego s = Si, n = No')\n",
    "    if jugar_otravez == \"s\":\n",
    "        esconder_palabra()\n",
    "    elif jugar_otravez == \"n\":\n",
    "        print(\"Gracias por jugar\")\n",
    "        exit()\n",
    "    else:\n",
    "        jugar_otravez = input('Respuesta incorrecta. Reiniciar juego s = Si, n = No')"
   ]
  },
  {
   "cell_type": "code",
   "execution_count": 6,
   "id": "a63eb793",
   "metadata": {},
   "outputs": [
    {
     "name": "stdin",
     "output_type": "stream",
     "text": [
      "Reiniciar juego s = Si, n = No n\n"
     ]
    },
    {
     "name": "stdout",
     "output_type": "stream",
     "text": [
      "Gracias por jugar\n"
     ]
    }
   ],
   "source": [
    "reiniciar()"
   ]
  },
  {
   "cell_type": "code",
   "execution_count": null,
   "id": "a89c05c8",
   "metadata": {},
   "outputs": [],
   "source": []
  }
 ],
 "metadata": {
  "kernelspec": {
   "display_name": "Python 3",
   "language": "python",
   "name": "python3"
  },
  "language_info": {
   "codemirror_mode": {
    "name": "ipython",
    "version": 3
   },
   "file_extension": ".py",
   "mimetype": "text/x-python",
   "name": "python",
   "nbconvert_exporter": "python",
   "pygments_lexer": "ipython3",
   "version": "3.8.8"
  }
 },
 "nbformat": 4,
 "nbformat_minor": 5
}
