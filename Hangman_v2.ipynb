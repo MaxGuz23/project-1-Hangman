{
 "cells": [
  {
   "cell_type": "code",
   "execution_count": 3,
   "id": "3cb6b958-67ec-4167-be33-f65fcd07c802",
   "metadata": {
    "tags": []
   },
   "outputs": [
    {
     "name": "stdin",
     "output_type": "stream",
     "text": [
      "Dame una letra  a\n"
     ]
    },
    {
     "name": "stdout",
     "output_type": "stream",
     "text": [
      "_ _ _ _ _ _ _ _ _   Te quedan 2 vidas\n"
     ]
    },
    {
     "name": "stdin",
     "output_type": "stream",
     "text": [
      "Dame una letra  e\n"
     ]
    },
    {
     "name": "stdout",
     "output_type": "stream",
     "text": [
      "_ _ _ _ e _ _ _ e   Te quedan 2 vidas\n"
     ]
    },
    {
     "name": "stdin",
     "output_type": "stream",
     "text": [
      "Dame una letra  n\n"
     ]
    },
    {
     "name": "stdout",
     "output_type": "stream",
     "text": [
      "n _ _ _ e _ _ _ e   Te quedan 2 vidas\n"
     ]
    },
    {
     "name": "stdin",
     "output_type": "stream",
     "text": [
      "Dame una letra  o\n"
     ]
    },
    {
     "name": "stdout",
     "output_type": "stream",
     "text": [
      "n o _ _ e _ _ _ e   Te quedan 2 vidas\n"
     ]
    },
    {
     "name": "stdin",
     "output_type": "stream",
     "text": [
      "Dame una letra  v\n"
     ]
    },
    {
     "name": "stdout",
     "output_type": "stream",
     "text": [
      "n o v _ e _ _ _ e   Te quedan 2 vidas\n"
     ]
    },
    {
     "name": "stdin",
     "output_type": "stream",
     "text": [
      "Dame una letra  i\n"
     ]
    },
    {
     "name": "stdout",
     "output_type": "stream",
     "text": [
      "n o v i e _ _ _ e   Te quedan 2 vidas\n"
     ]
    },
    {
     "name": "stdin",
     "output_type": "stream",
     "text": [
      "Dame una letra  m\n"
     ]
    },
    {
     "name": "stdout",
     "output_type": "stream",
     "text": [
      "n o v i e m _ _ e   Te quedan 2 vidas\n"
     ]
    },
    {
     "name": "stdin",
     "output_type": "stream",
     "text": [
      "Dame una letra  b\n"
     ]
    },
    {
     "name": "stdout",
     "output_type": "stream",
     "text": [
      "n o v i e m b _ e   Te quedan 2 vidas\n"
     ]
    },
    {
     "name": "stdin",
     "output_type": "stream",
     "text": [
      "Dame una letra  r\n"
     ]
    },
    {
     "name": "stdout",
     "output_type": "stream",
     "text": [
      "n o v i e m b r e   Te quedan 2 vidas\n",
      "\n",
      "GANASTEEEE!\n",
      "\n"
     ]
    },
    {
     "name": "stdin",
     "output_type": "stream",
     "text": [
      "Reiniciar juego s = Si, n = No s\n",
      "Dame una letra  e\n"
     ]
    },
    {
     "name": "stdout",
     "output_type": "stream",
     "text": [
      "_ _ _ _ _ _ _ _   Te quedan 2 vidas\n"
     ]
    },
    {
     "name": "stdin",
     "output_type": "stream",
     "text": [
      "Dame una letra  r\n"
     ]
    },
    {
     "name": "stdout",
     "output_type": "stream",
     "text": [
      "_ r _ _ _ _ _ _   Te quedan 2 vidas\n"
     ]
    },
    {
     "name": "stdin",
     "output_type": "stream",
     "text": [
      "Dame una letra  i\n"
     ]
    },
    {
     "name": "stdout",
     "output_type": "stream",
     "text": [
      "i r _ _ _ _ _ _   Te quedan 2 vidas\n"
     ]
    },
    {
     "name": "stdin",
     "output_type": "stream",
     "text": [
      "Dame una letra  o\n"
     ]
    },
    {
     "name": "stdout",
     "output_type": "stream",
     "text": [
      "i r o _ _ _ _ _   Te quedan 2 vidas\n"
     ]
    },
    {
     "name": "stdin",
     "output_type": "stream",
     "text": [
      "Dame una letra  n\n"
     ]
    },
    {
     "name": "stdout",
     "output_type": "stream",
     "text": [
      "i r o n _ _ _ _   Te quedan 2 vidas\n"
     ]
    },
    {
     "name": "stdin",
     "output_type": "stream",
     "text": [
      "Dame una letra  h\n"
     ]
    },
    {
     "name": "stdout",
     "output_type": "stream",
     "text": [
      "i r o n h _ _ _   Te quedan 2 vidas\n"
     ]
    },
    {
     "name": "stdin",
     "output_type": "stream",
     "text": [
      "Dame una letra  ac\n"
     ]
    },
    {
     "name": "stdout",
     "output_type": "stream",
     "text": [
      "i r o n h _ _ _   Te quedan 2 vidas\n"
     ]
    },
    {
     "name": "stdin",
     "output_type": "stream",
     "text": [
      "Dame una letra  c\n"
     ]
    },
    {
     "name": "stdout",
     "output_type": "stream",
     "text": [
      "i r o n h _ c _   Te quedan 2 vidas\n"
     ]
    },
    {
     "name": "stdin",
     "output_type": "stream",
     "text": [
      "Dame una letra  x\n"
     ]
    },
    {
     "name": "stdout",
     "output_type": "stream",
     "text": [
      "i r o n h _ c _   Te quedan 1 vidas\n"
     ]
    },
    {
     "name": "stdin",
     "output_type": "stream",
     "text": [
      "Dame una letra  z\n"
     ]
    },
    {
     "name": "stdout",
     "output_type": "stream",
     "text": [
      "i r o n h _ c _   Te quedan 0 vidas\n",
      "\n",
      "Perdiste :( \n",
      "\n"
     ]
    },
    {
     "name": "stdin",
     "output_type": "stream",
     "text": [
      "Reiniciar juego s = Si, n = No n\n"
     ]
    }
   ],
   "source": [
    "# Valores iniciales\n",
    "from numpy import random\n",
    "\n",
    "reiniciar = 's'\n",
    "while reiniciar == 's':\n",
    "    lista_de_palabras = ['alfabeto','noviembre','ironhack','murcielago','ferrocarril']\n",
    "    letras_anteriores = []\n",
    "    letras_adivinadas =[]\n",
    "    letra_actual = []\n",
    "    vidas = 3\n",
    "    palabra = random.choice(lista_de_palabras)\n",
    "    letras_palabra = []\n",
    "\n",
    "\n",
    "\n",
    "    for letra in palabra:\n",
    "        letras_palabra.append(letra)\n",
    "\n",
    "#     def reiniciar():\n",
    "#         jugar_otravez = []\n",
    "#         jugar_otravez = input('Reiniciar juego s = Si, n = No')\n",
    "\n",
    "#         while jugar_otravez not in ['s', 'n']:\n",
    "#             jugar_otravez = input('Reiniciar juego s = Si, n = No')\n",
    "\n",
    "#         if jugar_otravez == \"s\":\n",
    "#             palabra = random.choice(lista_de_palabras)\n",
    "#             vidas = 3\n",
    "#             for letra in palabra:\n",
    "#                 letras_palabra.append(letra)\n",
    "\n",
    "#             while vidas > 0:\n",
    "#                 letra_actual = pedir_letra()\n",
    "\n",
    "#                 letras_adivinadas, vidas = acertar_letra(letra_actual, vidas)\n",
    "\n",
    "#                 print(esconder_palabra(letras_adivinadas),' Te quedan',vidas,'vidas')\n",
    "\n",
    "#                 if set(letras_adivinadas) == set(letras_palabra):\n",
    "#                     print('\\nGANASTEEEE!\\n')\n",
    "#                     break\n",
    "\n",
    "#                 if vidas == 0:\n",
    "#                     print('\\nPerdiste :( \\n')\n",
    "#                     break\n",
    "\n",
    "#             reiniciar()\n",
    "\n",
    "#         elif jugar_otravez == \"n\":\n",
    "#             print(\"Gracias por jugar\")\n",
    "#             exit()\n",
    "#         else:\n",
    "#             jugar_otravez = input('Respuesta incorrecta. Reiniciar juego s = Si, n = No')     \n",
    "\n",
    "    def pedir_letra():\n",
    "        # guardar la letra que nos de el usuario\n",
    "        letra_actual = input('Dame una letra ').lower()\n",
    "        while letra_actual in letras_anteriores:\n",
    "            #repite\n",
    "            letra_actual = input('Dame otra letra').lower()\n",
    "\n",
    "        letras_anteriores.append(letra_actual)        \n",
    "        return letra_actual\n",
    "\n",
    "    def acertar_letra(letra_actual, vidas):\n",
    "        if letra_actual in palabra:\n",
    "            letras_adivinadas.append(letra_actual) # Sí adivinaste!\n",
    "    #         vidas = vidas6\n",
    "            return letras_adivinadas, vidas\n",
    "        else:\n",
    "            vidas = vidas - 1\n",
    "            return letras_adivinadas, vidas\n",
    "\n",
    "    def esconder_palabra(letras_adivinadas): # 'palabra' ---> '_ _ _ _ _ _ _'\n",
    "\n",
    "        letra2 = []\n",
    "        for letra in palabra:\n",
    "            if letra not in letras_adivinadas:\n",
    "                letra = '_ '\n",
    "                letra2.append(letra)\n",
    "            else:\n",
    "                letra2.append(letra+' ')\n",
    "\n",
    "        return ''.join(letra2)    \n",
    "\n",
    "    while vidas > 0:\n",
    "        letra_actual = pedir_letra()\n",
    "\n",
    "        letras_adivinadas, vidas = acertar_letra(letra_actual, vidas)\n",
    "\n",
    "        print(esconder_palabra(letras_adivinadas),' Te quedan',vidas,'vidas')\n",
    "\n",
    "        if set(letras_adivinadas) == set(letras_palabra):\n",
    "            print('\\nGANASTEEEE!\\n')\n",
    "            break\n",
    "\n",
    "    if vidas == 0:\n",
    "        print('\\nPerdiste :( \\n')\n",
    "        \n",
    "    reiniciar = input('Reiniciar juego s = Si, n = No')\n",
    "    \n",
    "# letras_anteriores = []\n",
    "# letras_adivinadas = []\n",
    "# letra_actual = []\n",
    "# vidas += 3\n",
    "# letras_palabra = []\n",
    "# palabra = random.choice(lista_de_palabras)\n",
    "# # reiniciar()"
   ]
  }
 ],
 "metadata": {
  "kernelspec": {
   "display_name": "Python 3",
   "language": "python",
   "name": "python3"
  },
  "language_info": {
   "codemirror_mode": {
    "name": "ipython",
    "version": 3
   },
   "file_extension": ".py",
   "mimetype": "text/x-python",
   "name": "python",
   "nbconvert_exporter": "python",
   "pygments_lexer": "ipython3",
   "version": "3.8.8"
  }
 },
 "nbformat": 4,
 "nbformat_minor": 5
}
