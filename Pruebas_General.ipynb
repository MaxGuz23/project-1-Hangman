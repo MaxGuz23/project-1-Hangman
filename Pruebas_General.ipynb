{
 "cells": [
  {
   "cell_type": "code",
   "execution_count": 31,
   "id": "7aa7ae31-679f-4236-9051-9e405e1c0ce2",
   "metadata": {},
   "outputs": [],
   "source": [
    "from numpy import random"
   ]
  },
  {
   "cell_type": "code",
   "execution_count": 64,
   "id": "f1a08935-1115-482d-b737-2e4a3241b236",
   "metadata": {},
   "outputs": [],
   "source": [
    "lista_de_palabras = ['alfabeto','noviembre','ironhack','murcielago','ferrocarril']\n",
    "\n",
    "palabra = random.choice(lista_de_palabras)\n",
    "\n",
    "def pedir_letra(letras_anteriores=[]):\n",
    "    # guardar la letra que nos de el usuario\n",
    "    letra_actual = input('Dame una letra')\n",
    "    while letra_actual in letras_anteriores:\n",
    "        #repite\n",
    "        letra_actual = input('Dame otra letra')\n",
    "            \n",
    "#     letras_anteriores.append(letra_actual)        \n",
    "    return letra_actual\n",
    "\n",
    "def acertar_letra(palabra, letra_actual, vidas):\n",
    "    if letra_actual in palabra:\n",
    "        letras_adivinadas.append(letra_actual) # Sí adivinaste!\n",
    "        vidas = vidas\n",
    "    else:\n",
    "        vidas -= 1\n",
    "\n",
    "    return letras_adivinadas, vidas\n",
    "\n",
    "def esconder_palabra(palabra, letras_adivinadas): # 'palabra' ---> '_ _ _ _ _ _ _'\n",
    "    \n",
    "    letra2 = []\n",
    "    for letra in palabra:\n",
    "        if letra not in letras_adivinadas:\n",
    "            letra = '_ '\n",
    "            letra2.append(letra)\n",
    "    #         print(letra)\n",
    "        else:\n",
    "            letra2.append(letra+' ')\n",
    "    #         print(letra2)\n",
    "\n",
    "    return ''.join(letra2)\n",
    "\n"
   ]
  },
  {
   "cell_type": "code",
   "execution_count": 65,
   "id": "39c7ba94-2463-406a-853d-d7afc03ed032",
   "metadata": {},
   "outputs": [
    {
     "name": "stdin",
     "output_type": "stream",
     "text": [
      "Dame una letra a\n"
     ]
    },
    {
     "data": {
      "text/plain": [
       "'a'"
      ]
     },
     "execution_count": 65,
     "metadata": {},
     "output_type": "execute_result"
    }
   ],
   "source": [
    "pedir_letra()"
   ]
  },
  {
   "cell_type": "code",
   "execution_count": 66,
   "id": "d65c1c5f-6f25-48d5-9abc-57094997d651",
   "metadata": {},
   "outputs": [
    {
     "data": {
      "text/plain": [
       "'c'"
      ]
     },
     "execution_count": 66,
     "metadata": {},
     "output_type": "execute_result"
    }
   ],
   "source": [
    "letra_actual"
   ]
  },
  {
   "cell_type": "code",
   "execution_count": 1,
   "id": "612cb7b0",
   "metadata": {},
   "outputs": [
    {
     "name": "stdin",
     "output_type": "stream",
     "text": [
      "Dame una letra a\n"
     ]
    },
    {
     "data": {
      "text/plain": [
       "'a'"
      ]
     },
     "execution_count": 1,
     "metadata": {},
     "output_type": "execute_result"
    }
   ],
   "source": [
    "input('Dame una letra')"
   ]
  },
  {
   "cell_type": "code",
   "execution_count": 23,
   "id": "67bc2b7b-0102-4c36-bf90-fc7634f03886",
   "metadata": {},
   "outputs": [],
   "source": [
    "def pedir_letra(letras_anteriores=[]):\n",
    "    # guardar la letra que nos de el usuario\n",
    "    letra_actual = input('Dame una letra')\n",
    "    while letra_actual in letras_anteriores:\n",
    "        #repite\n",
    "        letra_actual = input('Dame otra letra')\n",
    "            \n",
    "#     letras_anteriores.append(letra_actual)        \n",
    "    return letra_actual"
   ]
  },
  {
   "cell_type": "code",
   "execution_count": 28,
   "id": "d930536b-5628-4794-95bf-896664ef8ba1",
   "metadata": {},
   "outputs": [
    {
     "name": "stdin",
     "output_type": "stream",
     "text": [
      "Dame una letra a\n",
      "Dame otra letra a\n",
      "Dame otra letra c\n"
     ]
    }
   ],
   "source": [
    "# pedir_letra(['a'])\n",
    "# letras_anteriores=[]\n",
    "letra_actual = pedir_letra(['a'])"
   ]
  },
  {
   "cell_type": "code",
   "execution_count": 29,
   "id": "db559a5e-f42e-4ab5-882c-a4f40019a61f",
   "metadata": {},
   "outputs": [
    {
     "data": {
      "text/plain": [
       "'c'"
      ]
     },
     "execution_count": 29,
     "metadata": {},
     "output_type": "execute_result"
    }
   ],
   "source": [
    "letra_actual"
   ]
  },
  {
   "cell_type": "code",
   "execution_count": 30,
   "id": "3218ff89-7d9a-481a-b203-7c9a7dad5202",
   "metadata": {},
   "outputs": [],
   "source": [
    "lista_de_palabras = ['alfabeto','noviembre','ironhack','murcielago','ferrocarril']"
   ]
  },
  {
   "cell_type": "code",
   "execution_count": 37,
   "id": "5ea726d6-6e43-4d37-a820-ded3e9f80342",
   "metadata": {},
   "outputs": [
    {
     "data": {
      "text/plain": [
       "'ironhack'"
      ]
     },
     "execution_count": 37,
     "metadata": {},
     "output_type": "execute_result"
    }
   ],
   "source": [
    "escoger_palabra()"
   ]
  },
  {
   "cell_type": "code",
   "execution_count": 50,
   "id": "1c087179-8d24-48e8-a349-3008b551a000",
   "metadata": {},
   "outputs": [],
   "source": [
    "def esconder_palabra(palabra, letras_adivinadas): # 'palabra' ---> '_ _ _ _ _ _ _'\n",
    "    \n",
    "    letra2 = []\n",
    "    for letra in palabra:\n",
    "        if letra not in letras_adivinadas:\n",
    "            letra = '_ '\n",
    "            letra2.append(letra)\n",
    "    #         print(letra)\n",
    "        else:\n",
    "            letra2.append(letra+' ')\n",
    "    #         print(letra2)\n",
    "\n",
    "    return ''.join(letra2)\n",
    "    \n",
    "      \n",
    "    \n",
    "#     letras_en_palabra = len(palabra)\n",
    "    \n",
    "#     print('_ '*letras_en_palabra)\n",
    "    \n",
    "#     if letra_actual in palabra:\n",
    "#         # mostrar la letra en su lugar\n",
    "        \n",
    "#         E J E M P L O\n",
    "        \n",
    "#         _ _ _ _ _ _ _\n",
    "    \n",
    "    "
   ]
  },
  {
   "cell_type": "code",
   "execution_count": 63,
   "id": "5599c2a8-7c14-443a-a0ed-e0baaff6de23",
   "metadata": {},
   "outputs": [
    {
     "data": {
      "text/plain": [
       "'e _ e m p _ o '"
      ]
     },
     "execution_count": 63,
     "metadata": {},
     "output_type": "execute_result"
    }
   ],
   "source": [
    "esconder_palabra(palabra,letras_adivinadas)"
   ]
  },
  {
   "cell_type": "code",
   "execution_count": 58,
   "id": "03687e6c-ac9c-463f-986c-a024285d11ce",
   "metadata": {
    "tags": []
   },
   "outputs": [],
   "source": [
    "palabra = 'ejemplo' \n",
    "letras_adivinadas = ['e','m','o'] # ---> e _ e _ _ _ _\n",
    "# letra2 = []\n",
    "# for letra in palabra:\n",
    "#     if letra not in letras_adivinadas:\n",
    "#         letra = '_ '\n",
    "#         letra2.append(letra)\n",
    "        \n",
    "# #         print(letra)\n",
    "#     else:\n",
    "#         letra2.append(letra+' ')\n",
    "# #         print(letra2)\n",
    "\n",
    "# print(''.join(letra2))"
   ]
  },
  {
   "cell_type": "code",
   "execution_count": 59,
   "id": "5ef3efbd-d512-4086-9c33-c80a6dd495c7",
   "metadata": {},
   "outputs": [],
   "source": [
    "def acertar_letra(palabra, letra_actual, vidas):\n",
    "    if letra_actual in palabra:\n",
    "        letras_adivinadas.append(letra_actual) # Sí adivinaste!\n",
    "        vidas = vidas\n",
    "    else:\n",
    "        vidas -= 1\n",
    "\n",
    "    return letras_adivinadas, vidas"
   ]
  },
  {
   "cell_type": "code",
   "execution_count": 62,
   "id": "5291cf7a-91e2-4654-a848-984502cd54e8",
   "metadata": {},
   "outputs": [
    {
     "data": {
      "text/plain": [
       "(['e', 'm', 'o', 'p'], 8)"
      ]
     },
     "execution_count": 62,
     "metadata": {},
     "output_type": "execute_result"
    }
   ],
   "source": [
    "acertar_letra(palabra, 'a', 9)"
   ]
  },
  {
   "cell_type": "code",
   "execution_count": null,
   "id": "7ffba82f-716c-43ce-9d03-1588024da6d9",
   "metadata": {},
   "outputs": [],
   "source": []
  }
 ],
 "metadata": {
  "kernelspec": {
   "display_name": "Python 3",
   "language": "python",
   "name": "python3"
  },
  "language_info": {
   "codemirror_mode": {
    "name": "ipython",
    "version": 3
   },
   "file_extension": ".py",
   "mimetype": "text/x-python",
   "name": "python",
   "nbconvert_exporter": "python",
   "pygments_lexer": "ipython3",
   "version": "3.8.8"
  }
 },
 "nbformat": 4,
 "nbformat_minor": 5
}
